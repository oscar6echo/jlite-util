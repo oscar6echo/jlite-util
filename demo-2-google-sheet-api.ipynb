{
 "cells": [
  {
   "cell_type": "code",
   "execution_count": 1,
   "id": "a33b59ea-50e8-4942-8cb7-65793187329d",
   "metadata": {},
   "outputs": [],
   "source": [
    "%load_ext autoreload\n",
    "%autoreload 2"
   ]
  },
  {
   "attachments": {},
   "cell_type": "markdown",
   "id": "cf6bf303",
   "metadata": {},
   "source": [
    "## Read Google GIS token from browser IndexedDB\n",
    "\n",
    "**WARNING**: \n",
    "+ Works on Jupyterlite only\n",
    "+ Requires lab extension: WIP"
   ]
  },
  {
   "cell_type": "code",
   "execution_count": null,
   "id": "fbd79465",
   "metadata": {},
   "outputs": [],
   "source": [
    "import jlite_util as m"
   ]
  },
  {
   "cell_type": "code",
   "execution_count": null,
   "id": "51c43893",
   "metadata": {},
   "outputs": [],
   "source": [
    "ga = m.GoogleAuth()\n",
    "data = ga.get_data()\n",
    "if not data:\n",
    "    print('missing token')\n",
    "else:\n",
    "    token = data['access_token']"
   ]
  },
  {
   "cell_type": "code",
   "execution_count": null,
   "id": "cfdd3498",
   "metadata": {},
   "outputs": [
    {
     "name": "stdout",
     "output_type": "stream",
     "text": [
      "ya29.a0AWY7CkmgFlSfmyWn-YP8PlMFdXTESEGsGPYPL-gPj0i5jxhMv-dc7IxjItPJvVTtCo8bV2dTBYBk_XrujgXzP5AzRxbbM9Aa6hWHQNp_ENyvTTwiepzMLp9H8TUabZgtE7crcg5xlME9WmVqdCjZUt5FeowgWwaCgYKAWQSARMSFQG1tDrp9kznFZod-xFi6I3LU6lB6A0165\n"
     ]
    }
   ],
   "source": [
    "# token = 'ya29.a0AWY7CkmgFlSfmyWn-YP8PlMFdXTESEGsGPYPL-gPj0i5jxhMv-dc7IxjItPJvVTtCo8bV2dTBYBk_XrujgXzP5AzRxbbM9Aa6hWHQNp_ENyvTTwiepzMLp9H8TUabZgtE7crcg5xlME9WmVqdCjZUt5FeowgWwaCgYKAWQSARMSFQG1tDrp9kznFZod-xFi6I3LU6lB6A0165'\n",
    "print(token)"
   ]
  },
  {
   "cell_type": "code",
   "execution_count": 2,
   "id": "285afcaa-320e-4824-a739-1bad80f15f68",
   "metadata": {},
   "outputs": [],
   "source": [
    "import requests as rq\n",
    "import pandas as pd\n",
    "from urllib.parse import quote"
   ]
  },
  {
   "attachments": {},
   "cell_type": "markdown",
   "id": "2ba64e0d-8e3a-4230-a9fa-1d1586f647f4",
   "metadata": {},
   "source": [
    "## Prerequisite\n",
    "\n",
    "+ Enable API Google Sheets API\n",
    "+ Ref https://developers.google.com/sheets/api/reference/rest"
   ]
  },
  {
   "cell_type": "code",
   "execution_count": 4,
   "id": "d400bf63-b1c8-4347-986b-a0dde58d83ae",
   "metadata": {},
   "outputs": [],
   "source": [
    "sheet_id = '1r8BmSUWDKbNhSl5kTR76s69AmG0ZM_pWD4n88DIx7nU'\n",
    "sheet_name = 'toto'\n",
    "headers = {'authorization': f'Bearer {token}'}"
   ]
  },
  {
   "cell_type": "code",
   "execution_count": 5,
   "id": "56eb7758-8996-44d9-b9b9-354b31ac660d",
   "metadata": {},
   "outputs": [
    {
     "name": "stdout",
     "output_type": "stream",
     "text": [
      "<Response [200]>\n"
     ]
    }
   ],
   "source": [
    "method = 'GET'\n",
    "url = f'https://sheets.googleapis.com/v4/spreadsheets/{sheet_id}/values/{sheet_name}'\n",
    "params = {\n",
    "    'majorDimension': 'ROWS',\n",
    "    'dateTimeRenderOption': 'FORMATTED_STRING',\n",
    "}\n",
    "\n",
    "r = rq.request(method, url, headers=headers, params=params) \n",
    "print(r)\n",
    "res = r.json()"
   ]
  },
  {
   "cell_type": "code",
   "execution_count": 6,
   "id": "fa75d53f-3c98-4b8f-b9e9-5f908a65dc7f",
   "metadata": {},
   "outputs": [
    {
     "data": {
      "text/plain": [
       "{'range': 'toto!A1:Z1000',\n",
       " 'majorDimension': 'ROWS',\n",
       " 'values': [['dt', 'b', 'c'],\n",
       "  ['2023-01-02', '1', '2'],\n",
       "  ['2024-10-20', '4', '5'],\n",
       "  ['2023-05-19', '331', '44'],\n",
       "  ['2024-05-20', '331', '441'],\n",
       "  ['2023-05-19', '3331', '44']]}"
      ]
     },
     "execution_count": 6,
     "metadata": {},
     "output_type": "execute_result"
    }
   ],
   "source": [
    "res"
   ]
  },
  {
   "cell_type": "code",
   "execution_count": 7,
   "id": "ae732e9f-03e0-46b0-b357-9243fdd09bda",
   "metadata": {},
   "outputs": [
    {
     "data": {
      "text/html": [
       "<div>\n",
       "<style scoped>\n",
       "    .dataframe tbody tr th:only-of-type {\n",
       "        vertical-align: middle;\n",
       "    }\n",
       "\n",
       "    .dataframe tbody tr th {\n",
       "        vertical-align: top;\n",
       "    }\n",
       "\n",
       "    .dataframe thead th {\n",
       "        text-align: right;\n",
       "    }\n",
       "</style>\n",
       "<table border=\"1\" class=\"dataframe\">\n",
       "  <thead>\n",
       "    <tr style=\"text-align: right;\">\n",
       "      <th></th>\n",
       "      <th>dt</th>\n",
       "      <th>b</th>\n",
       "      <th>c</th>\n",
       "    </tr>\n",
       "  </thead>\n",
       "  <tbody>\n",
       "    <tr>\n",
       "      <th>0</th>\n",
       "      <td>2023-01-02</td>\n",
       "      <td>1</td>\n",
       "      <td>2</td>\n",
       "    </tr>\n",
       "    <tr>\n",
       "      <th>1</th>\n",
       "      <td>2024-10-20</td>\n",
       "      <td>4</td>\n",
       "      <td>5</td>\n",
       "    </tr>\n",
       "    <tr>\n",
       "      <th>2</th>\n",
       "      <td>2023-05-19</td>\n",
       "      <td>331</td>\n",
       "      <td>44</td>\n",
       "    </tr>\n",
       "    <tr>\n",
       "      <th>3</th>\n",
       "      <td>2024-05-20</td>\n",
       "      <td>331</td>\n",
       "      <td>441</td>\n",
       "    </tr>\n",
       "    <tr>\n",
       "      <th>4</th>\n",
       "      <td>2023-05-19</td>\n",
       "      <td>3331</td>\n",
       "      <td>44</td>\n",
       "    </tr>\n",
       "  </tbody>\n",
       "</table>\n",
       "</div>"
      ],
      "text/plain": [
       "           dt     b    c\n",
       "0  2023-01-02     1    2\n",
       "1  2024-10-20     4    5\n",
       "2  2023-05-19   331   44\n",
       "3  2024-05-20   331  441\n",
       "4  2023-05-19  3331   44"
      ]
     },
     "execution_count": 7,
     "metadata": {},
     "output_type": "execute_result"
    }
   ],
   "source": [
    "data = res['values']\n",
    "df = pd.DataFrame(data=data[1:], columns=data[0])\n",
    "df"
   ]
  },
  {
   "cell_type": "code",
   "execution_count": 11,
   "id": "c50a1ce4-fdf1-409b-b7a8-0600581538bd",
   "metadata": {},
   "outputs": [
    {
     "data": {
      "text/plain": [
       "5"
      ]
     },
     "execution_count": 11,
     "metadata": {},
     "output_type": "execute_result"
    }
   ],
   "source": [
    "n = len(df)\n",
    "n"
   ]
  },
  {
   "cell_type": "code",
   "execution_count": 9,
   "id": "8489171a-e211-4c7b-a2da-d3f38fad67df",
   "metadata": {},
   "outputs": [
    {
     "name": "stdout",
     "output_type": "stream",
     "text": [
      "<Response [200]>\n"
     ]
    }
   ],
   "source": [
    "method = 'PUT'\n",
    "\n",
    "sheet_range = f'{n+2}:{n+2}'\n",
    "update_loc = f'{sheet_name}!{sheet_range}'\n",
    "loc = quote(update_loc)\n",
    "url = f'https://sheets.googleapis.com/v4/spreadsheets/{sheet_id}/values/{loc}'\n",
    "\n",
    "params = {\n",
    "    'responseDateTimeRenderOption': 'FORMATTED_STRING',\n",
    "    'valueInputOption': 'USER_ENTERED',\n",
    "    'includeValuesInResponse': True\n",
    "}\n",
    "\n",
    "data = {\n",
    "    \"values\":[\n",
    "        [\"2025-05-20\",\"131\",\"441\"]\n",
    "    ],\n",
    "    \"majorDimension\":\"ROWS\"\n",
    "}\n",
    "r = rq.request(method, url, headers=headers, params=params, json=data) \n",
    "print(r)\n",
    "res = r.json()\n"
   ]
  },
  {
   "cell_type": "code",
   "execution_count": 10,
   "id": "5dd14d0f-5b4f-4dd4-88d4-a626392eedaa",
   "metadata": {},
   "outputs": [
    {
     "data": {
      "text/plain": [
       "{'spreadsheetId': '1r8BmSUWDKbNhSl5kTR76s69AmG0ZM_pWD4n88DIx7nU',\n",
       " 'updatedRange': 'toto!A7:C7',\n",
       " 'updatedRows': 1,\n",
       " 'updatedColumns': 3,\n",
       " 'updatedCells': 3,\n",
       " 'updatedData': {'range': 'toto!A7:Z7',\n",
       "  'majorDimension': 'ROWS',\n",
       "  'values': [['2025-05-20', '131', '441']]}}"
      ]
     },
     "execution_count": 10,
     "metadata": {},
     "output_type": "execute_result"
    }
   ],
   "source": [
    "res"
   ]
  },
  {
   "cell_type": "code",
   "execution_count": null,
   "id": "eb8fa89f-bc8e-4a47-b001-f6eadab8cdb7",
   "metadata": {},
   "outputs": [],
   "source": []
  },
  {
   "cell_type": "code",
   "execution_count": null,
   "id": "1abd0cf0-a001-4d1c-bfdf-857917bf1450",
   "metadata": {},
   "outputs": [],
   "source": []
  }
 ],
 "metadata": {
  "kernelspec": {
   "display_name": "test",
   "language": "python",
   "name": "test"
  },
  "language_info": {
   "codemirror_mode": {
    "name": "ipython",
    "version": 3
   },
   "file_extension": ".py",
   "mimetype": "text/x-python",
   "name": "python",
   "nbconvert_exporter": "python",
   "pygments_lexer": "ipython3",
   "version": "3.10.6"
  }
 },
 "nbformat": 4,
 "nbformat_minor": 5
}
